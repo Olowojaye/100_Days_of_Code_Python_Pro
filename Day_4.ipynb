{
  "nbformat": 4,
  "nbformat_minor": 0,
  "metadata": {
    "colab": {
      "name": "Day_4.ipynb",
      "provenance": [],
      "collapsed_sections": [],
      "authorship_tag": "ABX9TyOBd65ygsCGcIS6WuyOcXwe",
      "include_colab_link": true
    },
    "kernelspec": {
      "name": "python3",
      "display_name": "Python 3"
    },
    "language_info": {
      "name": "python"
    }
  },
  "cells": [
    {
      "cell_type": "markdown",
      "metadata": {
        "id": "view-in-github",
        "colab_type": "text"
      },
      "source": [
        "<a href=\"https://colab.research.google.com/github/Olowojaye/100_Days_of_Code_Python_Pro/blob/main/Day_4.ipynb\" target=\"_parent\"><img src=\"https://colab.research.google.com/assets/colab-badge.svg\" alt=\"Open In Colab\"/></a>"
      ]
    },
    {
      "cell_type": "markdown",
      "source": [
        "# **Rock Paper Scissors Game**\n",
        "\n",
        "This program develops a game according to the rules [here](https://https://wrpsa.com/the-official-rules-of-rock-paper-scissors/)."
      ],
      "metadata": {
        "id": "6j6rysVJqkUd"
      }
    },
    {
      "cell_type": "code",
      "execution_count": 17,
      "metadata": {
        "colab": {
          "base_uri": "https://localhost:8080/"
        },
        "id": "zYIZSschVkbV",
        "outputId": "d843e3d9-26e9-4932-bcf5-83e85b953b95"
      },
      "outputs": [
        {
          "output_type": "stream",
          "name": "stdout",
          "text": [
            "What do you choose? Type 0 for Rock, 1 for Paper, 2 for Scissors.\n",
            "1\n",
            "\n",
            "    _______\n",
            "---'   ____)____\n",
            "          ______)\n",
            "          _______)\n",
            "         _______)\n",
            "---.__________)\n",
            "\n",
            "Computer chose:\n",
            "\n",
            "    _______\n",
            "---'   ____)____\n",
            "          ______)\n",
            "       __________)\n",
            "      (____)\n",
            "---.__(___)\n",
            "\n",
            "You lose.\n"
          ]
        }
      ],
      "source": [
        "rock = '''\n",
        "    _______\n",
        "---'   ____)\n",
        "      (_____)\n",
        "      (_____)\n",
        "      (____)\n",
        "---.__(___)\n",
        "'''\n",
        "\n",
        "paper = '''\n",
        "    _______\n",
        "---'   ____)____\n",
        "          ______)\n",
        "          _______)\n",
        "         _______)\n",
        "---.__________)\n",
        "'''\n",
        "\n",
        "scissors = '''\n",
        "    _______\n",
        "---'   ____)____\n",
        "          ______)\n",
        "       __________)\n",
        "      (____)\n",
        "---.__(___)\n",
        "'''\n",
        "\n",
        "#Write your code below this line 👇\n",
        "import random\n",
        "options = [rock, paper, scissors]\n",
        "try:\n",
        "  play = options[int(input(\"What do you choose? Type 0 for Rock, 1 for Paper, 2 for Scissors.\\n\"))]\n",
        "  print(play)\n",
        "  choice = random.choice(options)\n",
        "  print(f\"Computer chose:\\n{choice}\")\n",
        "  if choice == play: \n",
        "    print(\"It's a draw.\")\n",
        "  elif play == rock and choice == scissors:\n",
        "    print(\"You win!\")\n",
        "  elif play == scissors and choice == paper:\n",
        "    print(\"You win!\")\n",
        "  elif play == paper and choice == rock:\n",
        "    print(\"You win!\")\n",
        "  else:\n",
        "    print(\"You lose.\")\n",
        "except:\n",
        "  print(\"You entered an invalid number.\\nYou lose.\")"
      ]
    }
  ]
}