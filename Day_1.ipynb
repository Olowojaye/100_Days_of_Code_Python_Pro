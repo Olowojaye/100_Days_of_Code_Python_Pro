{
  "nbformat": 4,
  "nbformat_minor": 0,
  "metadata": {
    "colab": {
      "name": "Day_1.ipynb",
      "provenance": [],
      "authorship_tag": "ABX9TyN/GKrjyBsW4eNyK3JOdlYk",
      "include_colab_link": true
    },
    "kernelspec": {
      "name": "python3",
      "display_name": "Python 3"
    },
    "language_info": {
      "name": "python"
    }
  },
  "cells": [
    {
      "cell_type": "markdown",
      "metadata": {
        "id": "view-in-github",
        "colab_type": "text"
      },
      "source": [
        "<a href=\"https://colab.research.google.com/github/Olowojaye/100_Days_of_Code_Python_Pro/blob/main/Day_1.ipynb\" target=\"_parent\"><img src=\"https://colab.research.google.com/assets/colab-badge.svg\" alt=\"Open In Colab\"/></a>"
      ]
    },
    {
      "cell_type": "markdown",
      "source": [
        "# **Band Name Generator**\n",
        "Generates a band name suggestion using user's city and pet name."
      ],
      "metadata": {
        "id": "5i8aQ9VwQwKW"
      }
    },
    {
      "cell_type": "code",
      "source": [
        "#1. Create a greeting for your program.\n",
        "print('Welcome to the Band Name Generator')\n",
        "#2. Ask the user for the city that they grew up in.\n",
        "city = input(\"What's the name of the city you grew up in?\\n\")\n",
        "#3. Ask the user for the name of a pet.\n",
        "pet = input(\"What's your pet's name?\\n\")\n",
        "#4. Combine the name of their city and pet and show them their band name.\n",
        "print('Your band name could be ' + city + ' ' + pet)\n",
        "#5. Make sure the input cursor shows on a new line, see the example at:\n",
        "#   https://replit.com/@appbrewery/band-name-generator-end"
      ],
      "metadata": {
        "colab": {
          "base_uri": "https://localhost:8080/"
        },
        "id": "UmV1nllrNqFE",
        "outputId": "796209a4-422d-4816-816f-3b8b4fb395f8"
      },
      "execution_count": 3,
      "outputs": [
        {
          "output_type": "stream",
          "name": "stdout",
          "text": [
            "Welcome to the Band Name Generator\n",
            "What's the name of the city you grew up in?\n",
            "Lagos\n",
            "What's your pet's name?\n",
            "Cat\n",
            "Your band name could be Lagos Cat\n"
          ]
        }
      ]
    }
  ]
}