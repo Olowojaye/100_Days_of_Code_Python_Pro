{
  "nbformat": 4,
  "nbformat_minor": 0,
  "metadata": {
    "colab": {
      "name": "Day_2.ipynb",
      "provenance": [],
      "collapsed_sections": [],
      "authorship_tag": "ABX9TyOxyNRBcjslJcZxX+H3rOAm",
      "include_colab_link": true
    },
    "kernelspec": {
      "name": "python3",
      "display_name": "Python 3"
    },
    "language_info": {
      "name": "python"
    }
  },
  "cells": [
    {
      "cell_type": "markdown",
      "metadata": {
        "id": "view-in-github",
        "colab_type": "text"
      },
      "source": [
        "<a href=\"https://colab.research.google.com/github/Olowojaye/100_Days_of_Code_Python_Pro/blob/main/Day_2.ipynb\" target=\"_parent\"><img src=\"https://colab.research.google.com/assets/colab-badge.svg\" alt=\"Open In Colab\"/></a>"
      ]
    },
    {
      "cell_type": "markdown",
      "source": [
        "# **Tip Calculator**\n",
        "\n",
        "This program calculates what each person should pay if a number of persons are to pay a bill with a given percentage tip."
      ],
      "metadata": {
        "id": "jhseQf3dUdNr"
      }
    },
    {
      "cell_type": "code",
      "execution_count": 1,
      "metadata": {
        "colab": {
          "base_uri": "https://localhost:8080/"
        },
        "id": "cczMIHDJUUQb",
        "outputId": "d439d9d5-6750-4d25-d795-ecb2d603115f"
      },
      "outputs": [
        {
          "output_type": "stream",
          "name": "stdout",
          "text": [
            "Welcome to the tip calculator!\n",
            "What was the total bill? $124.56\n",
            "What percentage tip would you like to give? 10, 12, or 15? 12\n",
            "How many people to split the bill? 7\n",
            "Each person should pay $19.93\n"
          ]
        }
      ],
      "source": [
        "#If the bill was $150.00, split between 5 people, with 12% tip. \n",
        "\n",
        "#Each person should pay (150.00 / 5) * 1.12 = 33.6\n",
        "#Format the result to 2 decimal places = 33.60\n",
        "\n",
        "#Tip: There are 2 ways to round a number. You might have to do some Googling to solve this.💪\n",
        "\n",
        "#Write your code below this line 👇\n",
        "\n",
        "print('Welcome to the tip calculator!')\n",
        "\n",
        "total = float(input('What was the total bill? $'))\n",
        "tip = float(input('What percentage tip would you like to give? 10, 12, or 15? '))\n",
        "n_people = int(input('How many people to split the bill? '))\n",
        "pay = round((total * (1 + 0.01 * tip)) / n_people, 2)\n",
        "message = f'Each person should pay ${pay}'\n",
        "print(message)"
      ]
    }
  ]
}